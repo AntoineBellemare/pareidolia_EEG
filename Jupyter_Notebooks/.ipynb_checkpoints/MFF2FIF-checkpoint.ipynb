{
 "cells": [
  {
   "cell_type": "code",
   "execution_count": 2,
   "metadata": {},
   "outputs": [],
   "source": [
    "import mne # Here we import mne, the package that will contain most of the function that we will use today.\n",
    "import numpy as np"
   ]
  },
  {
   "cell_type": "code",
   "execution_count": 3,
   "metadata": {},
   "outputs": [],
   "source": [
    "data_path = r'E:\\PhD\\EEG_data\\mff_format\\P2_mff_format'\n",
    "BLOCS = ['resting1', 'b1', 'b2', 'b3', 'b4', 'resting2']"
   ]
  },
  {
   "cell_type": "code",
   "execution_count": null,
   "metadata": {},
   "outputs": [
    {
     "name": "stdout",
     "output_type": "stream",
     "text": [
      "Reading EGI MFF Header from E:\\PhD\\EEG_data\\mff_format\\P2_mff_format\\P2_resting1.mff...\n",
      "    Reading events ...\n",
      "    Assembling measurement info ...\n",
      "    Synthesizing trigger channel \"STI 014\" ...\n",
      "    Excluding events {sync} ...\n",
      "Reading 0 ... 498543  =      0.000 ...   498.543 secs...\n"
     ]
    },
    {
     "name": "stderr",
     "output_type": "stream",
     "text": [
      "<ipython-input-6-844d5dce9084>:6: RuntimeWarning: 3 channel names are too long, have been truncated to 15 characters:\n",
      "['Resp. Temperature', 'Resp. Effort Chest', 'Resp. Effort Abdomen']\n",
      "  raw[b] = mne.io.read_raw_egi(raw_fname, preload=True)\n"
     ]
    },
    {
     "name": "stdout",
     "output_type": "stream",
     "text": [
      "Writing C:\\Users\\Dell\\Jupyter\\EEG_pareidolia\\P1_resting1.fif\n"
     ]
    },
    {
     "name": "stderr",
     "output_type": "stream",
     "text": [
      "<ipython-input-6-844d5dce9084>:7: RuntimeWarning: This filename (C:\\Users\\Dell\\Jupyter\\EEG_pareidolia\\P1_resting1.fif) does not conform to MNE naming conventions. All raw files should end with raw.fif, raw_sss.fif, raw_tsss.fif, raw.fif.gz, raw_sss.fif.gz, raw_tsss.fif.gz or _meg.fif\n",
      "  raw[b].save(fname = 'P1_' + b + '.fif')\n"
     ]
    },
    {
     "name": "stdout",
     "output_type": "stream",
     "text": [
      "Closing C:\\Users\\Dell\\Jupyter\\EEG_pareidolia\\P1_resting1.fif [done]\n",
      "Reading EGI MFF Header from E:\\PhD\\EEG_data\\mff_format\\P2_mff_format\\P2_b1.mff...\n",
      "    Reading events ...\n",
      "    Assembling measurement info ...\n",
      "    Synthesizing trigger channel \"STI 014\" ...\n",
      "    Excluding events {sync} ...\n",
      "Reading 0 ... 1611342  =      0.000 ...  1611.342 secs...\n"
     ]
    },
    {
     "name": "stderr",
     "output_type": "stream",
     "text": [
      "<ipython-input-6-844d5dce9084>:6: RuntimeWarning: 3 channel names are too long, have been truncated to 15 characters:\n",
      "['Resp. Temperature', 'Resp. Effort Chest', 'Resp. Effort Abdomen']\n",
      "  raw[b] = mne.io.read_raw_egi(raw_fname, preload=True)\n"
     ]
    },
    {
     "name": "stdout",
     "output_type": "stream",
     "text": [
      "Writing C:\\Users\\Dell\\Jupyter\\EEG_pareidolia\\P1_b1.fif\n"
     ]
    },
    {
     "name": "stderr",
     "output_type": "stream",
     "text": [
      "<ipython-input-6-844d5dce9084>:7: RuntimeWarning: This filename (C:\\Users\\Dell\\Jupyter\\EEG_pareidolia\\P1_b1.fif) does not conform to MNE naming conventions. All raw files should end with raw.fif, raw_sss.fif, raw_tsss.fif, raw.fif.gz, raw_sss.fif.gz, raw_tsss.fif.gz or _meg.fif\n",
      "  raw[b].save(fname = 'P1_' + b + '.fif')\n"
     ]
    }
   ],
   "source": [
    "#Load datasets (MFF files)\n",
    "raw = {}\n",
    "#for p in PARTICIPANTS:\n",
    "for b in BLOCS:\n",
    "    raw_fname = data_path + '\\P2_' + b + '.mff'\n",
    "    raw[b] = mne.io.read_raw_egi(raw_fname, preload=True)\n",
    "    raw[b].save(fname = 'P2_' + b + '.fif')"
   ]
  }
 ],
 "metadata": {
  "kernelspec": {
   "display_name": "Python 3",
   "language": "python",
   "name": "python3"
  },
  "language_info": {
   "codemirror_mode": {
    "name": "ipython",
    "version": 3
   },
   "file_extension": ".py",
   "mimetype": "text/x-python",
   "name": "python",
   "nbconvert_exporter": "python",
   "pygments_lexer": "ipython3",
   "version": "3.7.4"
  }
 },
 "nbformat": 4,
 "nbformat_minor": 2
}
